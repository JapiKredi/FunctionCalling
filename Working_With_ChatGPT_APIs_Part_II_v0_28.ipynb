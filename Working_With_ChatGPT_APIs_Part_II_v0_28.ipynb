{
  "nbformat": 4,
  "nbformat_minor": 0,
  "metadata": {
    "colab": {
      "provenance": [],
      "include_colab_link": true
    },
    "kernelspec": {
      "name": "python3",
      "display_name": "Python 3"
    },
    "language_info": {
      "name": "python"
    }
  },
  "cells": [
    {
      "cell_type": "markdown",
      "metadata": {
        "id": "view-in-github",
        "colab_type": "text"
      },
      "source": [
        "<a href=\"https://colab.research.google.com/github/JapiKredi/FunctionCalling/blob/main/Working_With_ChatGPT_APIs_Part_II_v0_28.ipynb\" target=\"_parent\"><img src=\"https://colab.research.google.com/assets/colab-badge.svg\" alt=\"Open In Colab\"/></a>"
      ]
    },
    {
      "cell_type": "markdown",
      "source": [
        "# **Working With ChatGPT APIs | Part-II**\n",
        "\n",
        "In the previous section, we performed the following tasks:\n",
        "1. Make API calls to the `Completion()` endpoint\n",
        "2. Modify the prompts and make them more nuanced to perform complex tasks\n",
        "\n",
        "In the second part of working with ChatGPT APIs, we will use the `ChatCompletion()` API endpoint to create a simple AI-tutor. Specifically, we will:\n",
        "3. Create a simple 'AI Tutor' using the `ChatCompletion()` endpoint which assists students with math problems\n",
        "4. Measure the cost of making API calls via tokens and put guardrails in place to monitor and control costs\n"
      ],
      "metadata": {
        "id": "QHPdKqxijxW0"
      }
    },
    {
      "cell_type": "markdown",
      "source": [
        "## Multi-Turn Conversation using `ChatCompletion()` | Math AI Tutor\n",
        "\n",
        "In the previous section, we used the `Completion()` endpoint to get responses for various prompts. Let's now use the other endpoint offered by OpenAI - `ChatCompletion()`.\n",
        "\n",
        "`ChatCompletion()` is used for multi-turn, chat-like conversations. For e.g., say we want to build an AI tutor application which helps students with math homework problems. Let's first define what a good tutor looks like. A good tutor will:\n",
        "* Not reveal the answer to the student, but rather help the student identify their mistakes by asking questions (probing)\n",
        "* Provide hints, fill gaps in the student's knowledge required to solve the problem\n",
        "* Provide feedback to guide the student if they are thinking in the right direction\n",
        "\n",
        "And this will require a conversation with multiple turns, not a single input-output transaction. This is where `ChatCompletion()` API is useful - the bot can be **contextually aware** and make **long, coherent conversations**.\n",
        "\n",
        "<hr>\n",
        "\n",
        "An example (good) conversation may look like this:\n",
        "* Student: Help me solve the equation x^2 - 5x + 6 = 0\n",
        "* Tutor: Sure. Which step of the solution have you reached?\n",
        "* Student: Can you tell me the answer first?\n",
        "* Tutor: As a tutor, I can help you solve the problem by providing guidance, hints or feedback. But I cannot reveal the answer since it will jeopardize your learning.\n",
        "* Student: Okay. What should be my first step to solve this equation?\n",
        "* Tutor: Try to factorize the equation, i.e. break it down in the form (x - a)(x - b) = 0.\n",
        "\n",
        "\n"
      ],
      "metadata": {
        "id": "OPNxny4TbY3t"
      }
    },
    {
      "cell_type": "markdown",
      "source": [
        "Let's now get started with the `ChatCompletion()` API. There are three main roles in the API:\n",
        "1. **System**: This is an instruction that sets the behaviour of the assistant, e.g. \"You are a helpful math tutor\", or \"You are a helpful advisor for financial analysts\"\n",
        "2. **User**: This role represents the end user using the chatbot\n",
        "3. **Assistant**: This is the ChatGPT chatbot\n",
        "\n",
        "An API call looks like as follows. We provide an initial system instruction, a user input and an assistant input to  `messages`, which is a list that contains the entire conversation history. In each subsequent API call, we pass on the entire conversation history.\n",
        "\n",
        "Notice that we are now using the gpt-3.5-turbo model (it is a cheaper than its other ones in the 3.5 family, more on that later)."
      ],
      "metadata": {
        "id": "2duuzZdpnC7N"
      }
    },
    {
      "cell_type": "markdown",
      "source": [
        "**IMPORTANT NOTE**: If you notice the code below, we've installed version 0.28 of the OpenAI library. This is because the Completions API used in this notebook is supported only till v0.28 of the OpenAI API. Due to updates in the API, the `ChatCompletion` model in OpenAI is no longer supported and has since been replaced by `chat.completions` model. You can find this in the new notebook shared on the platform."
      ],
      "metadata": {
        "id": "0GjEk8WH7l-f"
      }
    },
    {
      "cell_type": "code",
      "source": [
        "# Install OpenAI library\n",
        "!pip install openai==0.28"
      ],
      "metadata": {
        "id": "qLcyFzOAzF-4",
        "colab": {
          "base_uri": "https://localhost:8080/"
        },
        "outputId": "bbff4580-6fe0-4177-a265-4e9ecc64dd0b"
      },
      "execution_count": null,
      "outputs": [
        {
          "output_type": "stream",
          "name": "stdout",
          "text": [
            "Collecting openai==0.28\n",
            "  Downloading openai-0.28.0-py3-none-any.whl (76 kB)\n",
            "\u001b[2K     \u001b[90m━━━━━━━━━━━━━━━━━━━━━━━━━━━━━━━━━━━━━━━━\u001b[0m \u001b[32m76.5/76.5 kB\u001b[0m \u001b[31m2.1 MB/s\u001b[0m eta \u001b[36m0:00:00\u001b[0m\n",
            "\u001b[?25hRequirement already satisfied: requests>=2.20 in /usr/local/lib/python3.10/dist-packages (from openai==0.28) (2.31.0)\n",
            "Requirement already satisfied: tqdm in /usr/local/lib/python3.10/dist-packages (from openai==0.28) (4.66.1)\n",
            "Requirement already satisfied: aiohttp in /usr/local/lib/python3.10/dist-packages (from openai==0.28) (3.9.1)\n",
            "Requirement already satisfied: charset-normalizer<4,>=2 in /usr/local/lib/python3.10/dist-packages (from requests>=2.20->openai==0.28) (3.3.2)\n",
            "Requirement already satisfied: idna<4,>=2.5 in /usr/local/lib/python3.10/dist-packages (from requests>=2.20->openai==0.28) (3.6)\n",
            "Requirement already satisfied: urllib3<3,>=1.21.1 in /usr/local/lib/python3.10/dist-packages (from requests>=2.20->openai==0.28) (2.0.7)\n",
            "Requirement already satisfied: certifi>=2017.4.17 in /usr/local/lib/python3.10/dist-packages (from requests>=2.20->openai==0.28) (2023.11.17)\n",
            "Requirement already satisfied: attrs>=17.3.0 in /usr/local/lib/python3.10/dist-packages (from aiohttp->openai==0.28) (23.1.0)\n",
            "Requirement already satisfied: multidict<7.0,>=4.5 in /usr/local/lib/python3.10/dist-packages (from aiohttp->openai==0.28) (6.0.4)\n",
            "Requirement already satisfied: yarl<2.0,>=1.0 in /usr/local/lib/python3.10/dist-packages (from aiohttp->openai==0.28) (1.9.3)\n",
            "Requirement already satisfied: frozenlist>=1.1.1 in /usr/local/lib/python3.10/dist-packages (from aiohttp->openai==0.28) (1.4.0)\n",
            "Requirement already satisfied: aiosignal>=1.1.2 in /usr/local/lib/python3.10/dist-packages (from aiohttp->openai==0.28) (1.3.1)\n",
            "Requirement already satisfied: async-timeout<5.0,>=4.0 in /usr/local/lib/python3.10/dist-packages (from aiohttp->openai==0.28) (4.0.3)\n",
            "Installing collected packages: openai\n",
            "\u001b[31mERROR: pip's dependency resolver does not currently take into account all the packages that are installed. This behaviour is the source of the following dependency conflicts.\n",
            "llmx 0.0.15a0 requires cohere, which is not installed.\n",
            "llmx 0.0.15a0 requires tiktoken, which is not installed.\u001b[0m\u001b[31m\n",
            "\u001b[0mSuccessfully installed openai-0.28.0\n"
          ]
        }
      ]
    },
    {
      "cell_type": "code",
      "source": [
        "# once you mount your google drive, you can read data from your google drive into the colab notebook\n",
        "from google.colab import drive\n",
        "drive.mount('/content/drive')"
      ],
      "metadata": {
        "colab": {
          "base_uri": "https://localhost:8080/"
        },
        "id": "H1GfTtmVzEpA",
        "outputId": "598fc5ad-0f4f-45f7-bf95-e51d9f3bd17e"
      },
      "execution_count": null,
      "outputs": [
        {
          "output_type": "stream",
          "name": "stdout",
          "text": [
            "Mounted at /content/drive\n"
          ]
        }
      ]
    },
    {
      "cell_type": "code",
      "source": [
        "# import openai and set the API key\n",
        "import openai\n",
        "# Set up the path containint the OpenAI_API_Key.txt file.\n",
        "filepath = \"/content/drive/MyDrive/GenAI_Course_Master/Course_1_ShopAssistAI/Week_2/Session_1/\"\n",
        "\n",
        "with open(filepath + \"OpenAI_API_Key_1.txt\", \"r\") as f:\n",
        "  openai.api_key = ' '.join(f.readlines())"
      ],
      "metadata": {
        "id": "zHWdM0xVzJ9T"
      },
      "execution_count": null,
      "outputs": []
    },
    {
      "cell_type": "code",
      "source": [
        "# simple API call\n",
        "chat_response = openai.ChatCompletion.create(\n",
        "  model=\"gpt-3.5-turbo\",\n",
        "  messages=[\n",
        "        {\"role\": \"system\", \"content\": \"You are an AI tutor that assists school students with math homework problems.\"},\n",
        "        {\"role\": \"user\", \"content\": \"Help me solve the equation 3x - 9 = 21.\"},\n",
        "        {\"role\": \"assistant\", \"content\": \"Try moving the 9 to the right hand side of the equation. What do you get?\"},\n",
        "        {\"role\": \"user\", \"content\": \"3x = 12\"}\n",
        "    ]\n",
        ")\n",
        "\n",
        "print(chat_response)"
      ],
      "metadata": {
        "colab": {
          "base_uri": "https://localhost:8080/"
        },
        "id": "YWeH5bHPbaDE",
        "outputId": "a7800d66-6659-4884-e910-66027312a453"
      },
      "execution_count": null,
      "outputs": [
        {
          "output_type": "stream",
          "name": "stdout",
          "text": [
            "{\n",
            "  \"id\": \"chatcmpl-8VDEptHvLjBP9HHinvHoAvjP4KVvo\",\n",
            "  \"object\": \"chat.completion\",\n",
            "  \"created\": 1702449747,\n",
            "  \"model\": \"gpt-3.5-turbo-0613\",\n",
            "  \"choices\": [\n",
            "    {\n",
            "      \"index\": 0,\n",
            "      \"message\": {\n",
            "        \"role\": \"assistant\",\n",
            "        \"content\": \"To solve for x, you need to isolate it by dividing both sides of the equation by 3. What is the value of x?\"\n",
            "      },\n",
            "      \"finish_reason\": \"stop\"\n",
            "    }\n",
            "  ],\n",
            "  \"usage\": {\n",
            "    \"prompt_tokens\": 72,\n",
            "    \"completion_tokens\": 28,\n",
            "    \"total_tokens\": 100\n",
            "  },\n",
            "  \"system_fingerprint\": null\n",
            "}\n"
          ]
        }
      ]
    },
    {
      "cell_type": "code",
      "source": [
        "# extract only the text\n",
        "print(chat_response.choices[0][\"message\"][\"content\"])"
      ],
      "metadata": {
        "colab": {
          "base_uri": "https://localhost:8080/"
        },
        "id": "ZCUyDYOsoRAR",
        "outputId": "9e5eaf61-2f53-4c5a-8d14-8ec42a00a7b8"
      },
      "execution_count": null,
      "outputs": [
        {
          "output_type": "stream",
          "name": "stdout",
          "text": [
            "To solve for x, you need to isolate it by dividing both sides of the equation by 3. What is the value of x?\n"
          ]
        }
      ]
    },
    {
      "cell_type": "markdown",
      "source": [
        "We can now set up some more complex initial system messages, provide more example conversations, store the progressive responses and pass them on to the API for successive conversations."
      ],
      "metadata": {
        "id": "CAbzAlBorar8"
      }
    },
    {
      "cell_type": "code",
      "source": [
        "with open(filepath + \"AI_tutor_system_message_1.txt\", \"r\") as f:\n",
        "  system_message = ' '.join(f.readlines())\n",
        "\n",
        "print(system_message)"
      ],
      "metadata": {
        "colab": {
          "base_uri": "https://localhost:8080/"
        },
        "id": "xg-su8buzduX",
        "outputId": "832b7030-911d-4819-8b45-65c86d9251d4"
      },
      "execution_count": null,
      "outputs": [
        {
          "output_type": "stream",
          "name": "stdout",
          "text": [
            "You are an AI tutor that assists school students with math homework problems. You never reveal the right answer to the student. You ask probing questions to identify where the student might be needing help, provide hints and guidance, and provide directional feedback to indicate if the student is moving in the right direction.\n",
            " \n",
            " Do not reveal the correct answer to the student.\n",
            " \n",
            "\n"
          ]
        }
      ]
    },
    {
      "cell_type": "markdown",
      "source": [
        "We should note that the `system_message` has its limitations - while it sets the behavior of the bot to an extent, it may not completely determine the behavior. To solve for this, we can provide some examples to the bot - this is called **few shot prompting**.\n",
        "\n",
        "### Few-Shot Prompting | Providing Examples\n",
        "Few-shot prompting is the technique of providing examples of behaviours that we expect from the bot. Let's create a list with certain examples which acts as the `messages` object."
      ],
      "metadata": {
        "id": "gWCFSYxd0AH5"
      }
    },
    {
      "cell_type": "code",
      "source": [
        "# list of system message, user and assistant samples\n",
        "message_history = [\n",
        "        {\"role\": \"system\", \"content\": system_message},\n",
        "        {\"role\": \"user\", \"content\": \"Help me solve the equation 3x - 9 = 21.\"},\n",
        "        {\"role\": \"assistant\", \"content\": \"Sure! Try moving the 9 to the right hand side of the equation. What do you get?\"},\n",
        "        {\"role\": \"user\", \"content\": \"3x = 12\"},\n",
        "        {\"role\": \"assistant\", \"content\": \"Well, there seems to be a mistake. When you move 9 to the right hand side, you need to change its sign. Can you try again?\"},\n",
        "        {\"role\": \"user\", \"content\": \"3x = 30\"},\n",
        "        {\"role\": \"assistant\", \"content\": \"That looks good, great job! Now, try to divide both sides by 3. What do you get?\"},\n",
        "        {\"role\": \"user\", \"content\": \"x = 10\"},\n",
        "    ]"
      ],
      "metadata": {
        "id": "OWa1Fq4m0TTU"
      },
      "execution_count": null,
      "outputs": []
    },
    {
      "cell_type": "code",
      "source": [
        "# get the chatbot's next response\n",
        "chat_response = openai.ChatCompletion.create(\n",
        "  model=\"gpt-3.5-turbo\",\n",
        "  messages = message_history)\n",
        "\n",
        "print(chat_response.choices[0][\"message\"][\"content\"])"
      ],
      "metadata": {
        "colab": {
          "base_uri": "https://localhost:8080/"
        },
        "id": "Z9Q36IW71gwH",
        "outputId": "69a90c25-5352-412c-e2d9-678fef593993"
      },
      "execution_count": null,
      "outputs": [
        {
          "output_type": "stream",
          "name": "stdout",
          "text": [
            "Nice work! You correctly solved for x. Keep in mind that to solve an equation, you want to isolate the variable x by performing the same operation on both sides of the equation. In this case, by adding 9 to both sides, you eliminated the -9 term on the left side. Then, dividing both sides by 3 allowed you to isolate x. Well done! Is there anything else I can help you with?\n"
          ]
        }
      ]
    },
    {
      "cell_type": "markdown",
      "source": [
        "Let's now build a mini-program where we can input the message as an actual user / student and test our AI tutor. But notice that there is one small problem - the examples we have provided are **examples**, not actual conversations that the chatbot should refer to. To clarify that, we can specify the key `name`to `example_user` and `example_assistant`."
      ],
      "metadata": {
        "id": "EraP5lfx3AyS"
      }
    },
    {
      "cell_type": "code",
      "source": [
        "# list of system message, user and assistant examples\n",
        "message_history = [\n",
        "        {\"role\": \"system\", \"content\": system_message},\n",
        "        {\"role\": \"system\", \"name\":\"example_user\", \"content\": \"Help me solve the equation 3x - 9 = 21.\"},\n",
        "        {\"role\": \"system\", \"name\":\"example_assistant\", \"content\": \"Sure! Try moving the 9 to the right hand side of the equation. What do you get?\"},\n",
        "        {\"role\": \"system\", \"name\":\"example_user\", \"content\": \"3x = 12\"},\n",
        "        {\"role\": \"system\", \"name\":\"example_assistant\", \"content\": \"Well, there seems to be a mistake. When you move 9 to the right hand side, you need to change its sign. Can you try again?\"},\n",
        "        {\"role\": \"system\", \"name\":\"example_user\", \"content\": \"3x = 30\"},\n",
        "        {\"role\": \"system\", \"name\":\"example_assistant\", \"content\": \"That looks good, great job! Now, try to divide both sides by 3. What do you get?\"},\n",
        "        {\"role\": \"system\", \"name\":\"example_user\", \"content\": \"x = 10\"},\n",
        "        {\"role\": \"user\", \"content\": \"Help me solve the equation x - 10 = 2x\"}\n",
        "    ]"
      ],
      "metadata": {
        "id": "8o9SB6sH2pMJ"
      },
      "execution_count": null,
      "outputs": []
    },
    {
      "cell_type": "code",
      "source": [
        "# get the chatbot's next response\n",
        "chat_response = openai.ChatCompletion.create(\n",
        "  model=\"gpt-3.5-turbo\",\n",
        "  messages = message_history)\n",
        "\n",
        "print(chat_response.choices[0][\"message\"][\"content\"])"
      ],
      "metadata": {
        "colab": {
          "base_uri": "https://localhost:8080/"
        },
        "id": "2Dg5QPt44_qm",
        "outputId": "7bc945ac-05d9-481a-f3ec-c81d8b75e61f"
      },
      "execution_count": null,
      "outputs": [
        {
          "output_type": "stream",
          "name": "stdout",
          "text": [
            "Let's start by trying to simplify the equation. If we subtract x from both sides, what would the equation become?\n"
          ]
        }
      ]
    },
    {
      "cell_type": "markdown",
      "source": [
        "Let's now build a mini program which can take inputs so we can chat with our AI tutor and test it. The system message and some initial examples  are provided in `message_history` already.\n",
        "\n",
        "Let's  write a program which starts with the initial examples, can run a conversation of length n (we need to stop the program somewhere!), add a field which can take the user's input and append it to the `message_history`."
      ],
      "metadata": {
        "id": "UGPTAZMw5Mj3"
      }
    },
    {
      "cell_type": "code",
      "source": [
        "inp = input()\n",
        "print(inp)"
      ],
      "metadata": {
        "colab": {
          "base_uri": "https://localhost:8080/"
        },
        "id": "ZoExKNaBFBQ6",
        "outputId": "bd1c8d39-7189-4bf4-aee8-40cdeac701d9"
      },
      "execution_count": null,
      "outputs": [
        {
          "output_type": "stream",
          "name": "stdout",
          "text": [
            "How to solve 3X - 7 = 14\n",
            "How to solve 3X - 7 = 14\n"
          ]
        }
      ]
    },
    {
      "cell_type": "code",
      "source": [
        "# AI tutor mini program\n",
        "# Enter \"exit\" to terminate the program\n",
        "\n",
        "# One user message + one assistant message is one converation\n",
        "max_conversations = 20\n",
        "conversation_length = 0 # initialize\n",
        "\n",
        "# initialize system message, user and assistant examples\n",
        "message_history = [\n",
        "        {\"role\": \"system\", \"content\": system_message},\n",
        "        {\"role\": \"system\", \"name\":\"example_user\", \"content\": \"Help me solve the equation 3x - 9 = 21.\"},\n",
        "        {\"role\": \"system\", \"name\":\"example_assistant\", \"content\": \"Sure! Try moving the 9 to the right hand side of the equation. What do you get?\"},\n",
        "        {\"role\": \"system\", \"name\":\"example_user\", \"content\": \"3x = 12\"},\n",
        "        {\"role\": \"system\", \"name\":\"example_assistant\", \"content\": \"Well, there seems to be a mistake. When you move 9 to the right hand side, you need to change its sign. Can you try again?\"},\n",
        "        {\"role\": \"system\", \"name\":\"example_user\", \"content\": \"3x = 30\"},\n",
        "        {\"role\": \"system\", \"name\":\"example_assistant\", \"content\": \"That looks good, great job! Now, try to divide both sides by 3. What do you get?\"},\n",
        "        {\"role\": \"system\", \"name\":\"example_user\", \"content\": \"x = 10\"}]\n",
        "\n",
        "while conversation_length < max_conversations:\n",
        "  user_input = input()\n",
        "\n",
        "  # exit if user enters exit\n",
        "  if \"exit\" in user_input.lower():\n",
        "    print(\"AI Tutor: Exiting the program!\")\n",
        "    break\n",
        "\n",
        "  message_history.append({\"role\": \"user\", \"content\": user_input})\n",
        "\n",
        "  chat_response = openai.ChatCompletion.create(\n",
        "  model=\"gpt-3.5-turbo\",\n",
        "  messages = message_history).choices[0][\"message\"][\"content\"]\n",
        "\n",
        "  print(\"\\n\", \"AI Tutor:\")\n",
        "  print(chat_response)\n",
        "  print(\"\\n\")\n",
        "\n",
        "  message_history.append({\"role\": \"assistant\", \"content\": chat_response}) # add API response to message history\n",
        "  conversation_length = conversation_length + 1 # another conversation done\n"
      ],
      "metadata": {
        "colab": {
          "base_uri": "https://localhost:8080/"
        },
        "id": "Zhx0XCjx5BN9",
        "outputId": "01d754aa-a985-475e-e7fe-ab74641b4675"
      },
      "execution_count": null,
      "outputs": [
        {
          "output_type": "stream",
          "name": "stdout",
          "text": [
            "How to solve 3X - 7 = 14\n",
            "\n",
            " AI Tutor:\n",
            "To solve the equation 3x - 7 = 14, we need to isolate the variable x on one side of the equation.\n",
            "\n",
            "First, let's move the constant term (-7) to the right side by adding 7 to both sides of the equation. What do you get when you add 7 to both sides?\n",
            "\n",
            "\n",
            "3x - 7 + 7 = 21\n",
            "\n",
            " AI Tutor:\n",
            "Hmm, it seems there was a mistake in your calculation. Let me correct it for you.\n",
            "\n",
            "When we add 7 to both sides of the equation, we have:\n",
            "\n",
            "3x - 7 + 7 = 14 + 7\n",
            "\n",
            "This simplifies to:\n",
            "\n",
            "3x = 21\n",
            "\n",
            "Now, to solve for x, we need to isolate it. Can you divide both sides of the equation by 3 and tell me what you get?\n",
            "\n",
            "\n",
            "x = 7\n",
            "\n",
            " AI Tutor:\n",
            "No, I'm sorry, but that's not correct. Let's go through the steps again.\n",
            "\n",
            "We have:\n",
            "\n",
            "3x - 7 = 14\n",
            "\n",
            "To isolate the variable x, let's add 7 to both sides of the equation:\n",
            "\n",
            "3x - 7 + 7 = 14 + 7\n",
            "\n",
            "Which simplifies to:\n",
            "\n",
            "3x = 21\n",
            "\n",
            "Now, to solve for x, you need to divide both sides of the equation by 3. What is the value of x?\n",
            "\n",
            "\n",
            "3x/3 = 21/3\n",
            "\n",
            " AI Tutor:\n",
            "That's correct! When you divide both sides of the equation by 3, you get:\n",
            "\n",
            "x = 7\n",
            "\n",
            "Well done! The solution to the equation 3x - 7 = 14 is x = 7. Keep up the good work! Is there anything else I can help you with?\n",
            "\n",
            "\n",
            "exit\n",
            "AI Tutor: Exiting the program!\n"
          ]
        }
      ]
    },
    {
      "cell_type": "markdown",
      "source": [
        "Thus, we have created a simple AI tutor application - it is an initial version and is likely to make many mistakes. Feel free to test it with examples/tasks of varying complexity levels - you will notice that it makes mistakes, such as revealing the right answer, making factual errors, etc. Be aware that there is no single right solution to this - there are many variables you can play with - better system instructions, more examples (better few-shot prompting), other prompting hacks, and model fine-tuning (if we have enough sample data). We will get back to applying advanced prompt engineering techniques and fine-tuning eventually in the course. For now, attempt the following exercise to observe the mistakes it makes and how nuanced prompt design techniques affect ChatGPT's responses.\n",
        "\n"
      ],
      "metadata": {
        "id": "ZLMQZ51B9QUU"
      }
    },
    {
      "cell_type": "markdown",
      "source": [
        "> ### Exercise: Challenge the AI Tutor with Complex Tasks and Try to Improve Its Performance\n",
        "* Challenge the AI tutor with more complex math problems and observe how it responds. You can find some [math problems here](https://www.learncbse.in/extra-questions-for-class-8-maths/). One example you can try is:\n",
        " -  \"*There is a set of 10 cards numbered [6, 5, 3, 9, 7, 6, 4, 2, 8, 2]. Alice randomly picks one card from the set. What is the probability of the card being greater than 5?*\"\n",
        "* Intentionally provide incorrect facts or analysis to the AI tutor and observe if it corrects the mistake\n",
        "* Try to modify the program so it can improve on its mistakes - you can modify the system message, provide more examples in `messages`, or do something even more creative (think, you will find some non-obvious solutions)!"
      ],
      "metadata": {
        "id": "SwvmFC4YcTBB"
      }
    },
    {
      "cell_type": "markdown",
      "source": [
        "## Counting Tokens and Computing API Cost\n",
        "\n",
        "When you develop and deploy applications, it is important to track and monitor the API costs (since ChatGPT models are charged on a per token basis). There is a Python package called `tiktoken` created by OpenAI to compute the number of tokens used per API call.\n",
        "\n",
        "Let's first look at tokens - ChatGPT models see text in the form of tokens - it converts natural language (any language -- English, Mandarin, Spanish) into tokens.\n",
        "\n",
        "For e.g. ChatGPT will tokenize the string `\"Nelson, my neighbour, loves building AI applications!\"` into `['N','elson',',',' my',' neighbour', ',',\n",
        "' loves',' building',' AI',' applications','!']`. In this example, there are 7 words (plus punctuations) in the sentence and there are 11 tokens.\n",
        "\n",
        "<br>\n",
        "\n",
        "A general rule of thumb is **75 words = ~100 tokens**. For quick reference, it is helpful that one page of Google doc or Microsoft Word is about 500 words (~700 tokens).\n",
        "\n",
        "![image](https://drive.google.com/uc?export=view&id=1blqyToGFtsVzyHMdtHjcqWskToDT5ia9)\n",
        "\n",
        "\n",
        "<br>\n",
        "\n",
        "You can [use the Tokenizer here](https://platform.openai.com/tokenizer) to see the number of tokens any given piece of text corresponds to."
      ],
      "metadata": {
        "id": "DgIrX41FhxXG"
      }
    },
    {
      "cell_type": "code",
      "source": [
        "# Simple API call\n",
        "chat_response = openai.ChatCompletion.create(\n",
        "  model=\"gpt-3.5-turbo\",\n",
        "  messages=[\n",
        "        {\"role\": \"system\", \"content\": \"You are an AI tutor that assists school students with math homework problems.\"},\n",
        "        {\"role\": \"user\", \"content\": \"Help me solve the equation 3x - 9 = 21.\"},\n",
        "        {\"role\": \"assistant\", \"content\": \"Try moving the 9 to the right hand side of the equation. What do you get?\"},\n",
        "        {\"role\": \"user\", \"content\": \"3x = 12\"}\n",
        "    ]\n",
        ")\n",
        "\n",
        "print(chat_response)"
      ],
      "metadata": {
        "id": "D-8tcRW-6Y8J",
        "colab": {
          "base_uri": "https://localhost:8080/"
        },
        "outputId": "d8f5c594-40ec-4f68-fcff-51fad556b52a"
      },
      "execution_count": null,
      "outputs": [
        {
          "output_type": "stream",
          "name": "stdout",
          "text": [
            "{\n",
            "  \"id\": \"chatcmpl-8VDHSEkxw7nYwqTmXo64RIIE49YJU\",\n",
            "  \"object\": \"chat.completion\",\n",
            "  \"created\": 1702449910,\n",
            "  \"model\": \"gpt-3.5-turbo-0613\",\n",
            "  \"choices\": [\n",
            "    {\n",
            "      \"index\": 0,\n",
            "      \"message\": {\n",
            "        \"role\": \"assistant\",\n",
            "        \"content\": \"That's correct! To solve for x, divide both sides of the equation by 3. What is the value of x?\"\n",
            "      },\n",
            "      \"finish_reason\": \"stop\"\n",
            "    }\n",
            "  ],\n",
            "  \"usage\": {\n",
            "    \"prompt_tokens\": 72,\n",
            "    \"completion_tokens\": 26,\n",
            "    \"total_tokens\": 98\n",
            "  },\n",
            "  \"system_fingerprint\": null\n",
            "}\n"
          ]
        }
      ]
    },
    {
      "cell_type": "code",
      "source": [
        "def chat_response_with_num_tokens(messages):\n",
        "\n",
        "    chat_response = openai.ChatCompletion.create(\n",
        "    model=\"gpt-3.5-turbo\",\n",
        "    messages=messages\n",
        "    )\n",
        "\n",
        "    content = chat_response.choices[0].message[\"content\"]\n",
        "\n",
        "    token_count = {\n",
        "    'prompt_tokens':chat_response['usage']['prompt_tokens'],\n",
        "    'completion_tokens':chat_response['usage']['completion_tokens'],\n",
        "    'total_tokens':chat_response['usage']['total_tokens'],\n",
        "    }\n",
        "\n",
        "    return content, token_count"
      ],
      "metadata": {
        "id": "sPST8mDT6mRF"
      },
      "execution_count": null,
      "outputs": []
    },
    {
      "cell_type": "code",
      "source": [
        "messages=[\n",
        "        {\"role\": \"system\", \"content\": \"You are an AI tutor that assists school students with math homework problems.\"},\n",
        "        {\"role\": \"user\", \"content\": \"Help me solve the equation 3x - 9 = 21.\"},\n",
        "        {\"role\": \"assistant\", \"content\": \"Try moving the 9 to the right hand side of the equation. What do you get?\"},\n",
        "        {\"role\": \"user\", \"content\": \"3x = 12\"}\n",
        "      ]\n",
        "\n",
        "chat_response_with_num_tokens(messages)"
      ],
      "metadata": {
        "id": "0BvUpyEx6rAx",
        "colab": {
          "base_uri": "https://localhost:8080/"
        },
        "outputId": "354614f4-ff13-473a-d75f-477a2489779f"
      },
      "execution_count": null,
      "outputs": [
        {
          "output_type": "execute_result",
          "data": {
            "text/plain": [
              "(\"That's correct! Now, to solve for x, divide both sides of the equation by 3. What is the value of x?\",\n",
              " {'prompt_tokens': 72, 'completion_tokens': 28, 'total_tokens': 100})"
            ]
          },
          "metadata": {},
          "execution_count": 16
        }
      ]
    },
    {
      "cell_type": "code",
      "source": [
        "# Lets calculate the number of tokens in this message_history\n",
        "message_history = [\n",
        "        {\"role\": \"system\", \"content\": system_message},\n",
        "        {\"role\": \"system\", \"name\":\"example_user\", \"content\": \"Help me solve the equation 3x - 9 = 21.\"},\n",
        "        {\"role\": \"system\", \"name\":\"example_assistant\", \"content\": \"Sure! Try moving the 9 to the right hand side of the equation. What do you get?\"},\n",
        "        {\"role\": \"system\", \"name\":\"example_user\", \"content\": \"3x = 12\"},\n",
        "        {\"role\": \"system\", \"name\":\"example_assistant\", \"content\": \"Well, there seems to be a mistake. When you move 9 to the right hand side, you need to change its sign. Can you try again?\"},\n",
        "        {\"role\": \"system\", \"name\":\"example_user\", \"content\": \"3x = 30\"},\n",
        "        {\"role\": \"system\", \"name\":\"example_assistant\", \"content\": \"That looks good, great job! Now, try to divide both sides by 3. What do you get?\"},\n",
        "        {\"role\": \"system\", \"name\":\"example_user\", \"content\": \"x = 10\"},\n",
        "        {\"role\": \"user\", \"content\": \"Help me solve the equation x - 10 = 2x\"}]\n",
        "\n",
        "chat_response_with_num_tokens(message_history)"
      ],
      "metadata": {
        "id": "Ue37DuWj6tUR",
        "colab": {
          "base_uri": "https://localhost:8080/"
        },
        "outputId": "55342f15-20be-40d9-92d4-d4c3ff63b91a"
      },
      "execution_count": null,
      "outputs": [
        {
          "output_type": "execute_result",
          "data": {
            "text/plain": [
              "(\"Sure! Let's start by eliminating the variable on the right side of the equation. To do that, we can subtract x from both sides of the equation. What do you get?\",\n",
              " {'prompt_tokens': 252, 'completion_tokens': 37, 'total_tokens': 289})"
            ]
          },
          "metadata": {},
          "execution_count": 17
        }
      ]
    },
    {
      "cell_type": "markdown",
      "source": [
        "### **Cost of API Calls**\n",
        "Let's now calculate the cost of making API calls. We can see the [cost of various APIs here](https://openai.com/pricing). Our AI tutor program runs on gpt-3.5-turbo the cost for which is $0.002 / 1k tokens.\n",
        "\n",
        "\n",
        "The number of tokens in the `message_history` above is ~250. But be aware that as the chat progresses, the `message_history` keeps getting longer (since we append `user_response` and `chat_response` to the `message_history` after each conversation).\n",
        "\n",
        "Let's now modify our mini program to include token and cost calculation so that we can track the usage."
      ],
      "metadata": {
        "id": "ycBMSSdQN9gs"
      }
    },
    {
      "cell_type": "code",
      "source": [
        "# AI tutor mini program with cost calculation\n",
        "# Enter \"exit\" to terminate the program\n",
        "\n",
        "# One user message + one assistant message is one converation\n",
        "max_conversations = 20\n",
        "conversation_length = 0 # initialize\n",
        "\n",
        "#Let's also keep a track of tokens this time. Initialise an empty dictionary to count tokens\n",
        "token_count = {'prompt_tokens':0,\n",
        "               'completion_tokens':0,\n",
        "               'total_tokens':0,\n",
        "              }\n",
        "\n",
        "# initialize system message, user and assistant examples\n",
        "message_history = [\n",
        "        {\"role\": \"system\", \"content\": system_message},\n",
        "        {\"role\": \"system\", \"name\":\"example_user\", \"content\": \"Help me solve the equation 3x - 9 = 21.\"},\n",
        "        {\"role\": \"system\", \"name\":\"example_assistant\", \"content\": \"Sure! Try moving the 9 to the right hand side of the equation. What do you get?\"},\n",
        "        {\"role\": \"system\", \"name\":\"example_user\", \"content\": \"3x = 12\"},\n",
        "        {\"role\": \"system\", \"name\":\"example_assistant\", \"content\": \"Well, there seems to be a mistake. When you move 9 to the right hand side, you need to change its sign. Can you try again?\"},\n",
        "        {\"role\": \"system\", \"name\":\"example_user\", \"content\": \"3x = 30\"},\n",
        "        {\"role\": \"system\", \"name\":\"example_assistant\", \"content\": \"That looks good, great job! Now, try to divide both sides by 3. What do you get?\"},\n",
        "        {\"role\": \"system\", \"name\":\"example_user\", \"content\": \"x = 10\"}]\n",
        "\n",
        "while conversation_length < max_conversations:\n",
        "  user_input = input()\n",
        "\n",
        "  # exit if user enters exit\n",
        "  if \"exit\" in user_input.lower():\n",
        "    print(\"AI Tutor: Exiting the program!\")\n",
        "    break\n",
        "\n",
        "  message_history.append({\"role\": \"user\", \"content\": user_input})\n",
        "\n",
        "  chat_response = openai.ChatCompletion.create(\n",
        "  model=\"gpt-3.5-turbo\",\n",
        "  messages = message_history)\n",
        "\n",
        "  response = chat_response.choices[0][\"message\"][\"content\"]\n",
        "\n",
        "  token_count['prompt_tokens'] += chat_response['usage']['prompt_tokens']\n",
        "  token_count['completion_tokens'] += chat_response['usage']['completion_tokens']\n",
        "  token_count['total_tokens'] += chat_response['usage']['total_tokens']\n",
        "\n",
        "  print(\"\\n\", \"AI Tutor:\")\n",
        "  print(response)\n",
        "  print(\"\\n\")\n",
        "\n",
        "  message_history.append({\"role\": \"assistant\", \"content\": response}) # add API response to message history\n",
        "  conversation_length = conversation_length + 1 # another conversation done\n",
        "\n",
        "print(token_count)"
      ],
      "metadata": {
        "id": "dCQQShTa68xT",
        "colab": {
          "base_uri": "https://localhost:8080/"
        },
        "outputId": "5537e981-c26b-4313-f2d3-f88c30bd2e1d"
      },
      "execution_count": null,
      "outputs": [
        {
          "output_type": "stream",
          "name": "stdout",
          "text": [
            "How to solve 3x - 7 = 14\n",
            "\n",
            " AI Tutor:\n",
            "To solve the equation 3x - 7 = 14, let's isolate the x variable by moving the constant term, -7, to the right-hand side of the equation. Can you try moving -7 to the other side and see what you get?\n",
            "\n",
            "\n",
            "3x = 14 + 7\n",
            "\n",
            " AI Tutor:\n",
            "Almost there. Remember, when you move -7 to the right-hand side, it changes sign. Can you try again?\n",
            "\n",
            "\n",
            "3x = 7 + 14\n",
            "\n",
            " AI Tutor:\n",
            "Great! Now that you have correctly moved the -7 to the right-hand side, you can simplify the expression on the right. What is 7 + 14?\n",
            "\n",
            "\n",
            "3x = 21\n",
            "\n",
            " AI Tutor:\n",
            "Perfect! Now, to solve for x, you'll need to isolate it by dividing both sides of the equation by 3. Can you go ahead and perform that division?\n",
            "\n",
            "\n",
            "3x/3 = 21/3\n",
            "\n",
            " AI Tutor:\n",
            "That's correct! When you divide both sides of the equation by 3, what do you get?\n",
            "\n",
            "\n",
            "x = 7\n",
            "\n",
            " AI Tutor:\n",
            "Great job! You've correctly solved the equation. The solution is x = 7. Well done! Is there anything else I can help you with?\n",
            "\n",
            "\n",
            "exit\n",
            "AI Tutor: Exiting the program!\n",
            "{'prompt_tokens': 2298, 'completion_tokens': 200, 'total_tokens': 2498}\n"
          ]
        }
      ]
    },
    {
      "cell_type": "code",
      "source": [
        "# Initialise cost per tokens\n",
        "cost_per_1k_tokens = 0.002\n",
        "\n",
        "# Calculate total cost by multiplying this with the total tokens calculated earlier (and also divide by 1000 since the cost is per 1000 tokens)\n",
        "conversation_cost = \"The approx total cost of this conversation is ${0}\".format(cost_per_1k_tokens*token_count['total_tokens']/1000)\n",
        "\n",
        "# Print the conversation cost\n",
        "print(conversation_cost)"
      ],
      "metadata": {
        "id": "qLnIok_XOEbY",
        "colab": {
          "base_uri": "https://localhost:8080/"
        },
        "outputId": "39cc1e55-0ba6-4cff-e2af-8c64f7ff7a66"
      },
      "execution_count": null,
      "outputs": [
        {
          "output_type": "stream",
          "name": "stdout",
          "text": [
            "The approx total cost of this conversation is $0.0049960000000000004\n"
          ]
        }
      ]
    },
    {
      "cell_type": "markdown",
      "source": [
        "### **Setting API Usage Limits**\n",
        "\n",
        "It is highly recommended to set API usage limits on your OpenAI account to ensure that you don't exceed your monthly budget. You can [do that easily here](https://platform.openai.com/account/billing/limits).\n",
        "\n",
        "\n",
        "\n"
      ],
      "metadata": {
        "id": "bIpnYicWfcVQ"
      }
    },
    {
      "cell_type": "code",
      "source": [],
      "metadata": {
        "id": "jal4qdamfrNx"
      },
      "execution_count": null,
      "outputs": []
    }
  ]
}